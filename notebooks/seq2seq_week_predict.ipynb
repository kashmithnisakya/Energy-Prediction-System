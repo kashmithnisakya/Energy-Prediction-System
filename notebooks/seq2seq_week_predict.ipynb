{
 "cells": [
  {
   "cell_type": "code",
   "execution_count": null,
   "id": "5befc75f",
   "metadata": {},
   "outputs": [],
   "source": [
    "import numpy as np\n",
    "import pandas as pd\n",
    "import matplotlib.pyplot as plt\n",
    "from sklearn.preprocessing import MinMaxScaler\n",
    "import tensorflow as tf\n",
    "from tensorflow.keras.models import Sequential\n",
    "from tensorflow.keras.layers import LSTM, Dense, TimeDistributed, Input\n",
    "from tensorflow.keras.callbacks import EarlyStopping"
   ]
  },
  {
   "cell_type": "code",
   "execution_count": null,
   "id": "de9def5b",
   "metadata": {},
   "outputs": [],
   "source": [
    "csv_path = \"china_mill_data_2025_03_04_09_30_30.csv\"\n",
    "features = [\"energy\"]\n",
    "input_window = 3360\n",
    "output_window = 3360\n",
    "batch_size = 32\n",
    "epochs = 50\n",
    "hidden_size = 64\n",
    "learning_rate = 0.001"
   ]
  },
  {
   "cell_type": "code",
   "execution_count": null,
   "id": "f3b440fc",
   "metadata": {},
   "outputs": [],
   "source": [
    "def preprocess(csv_path, features, input_window, output_window):\n",
    "    df = pd.read_csv(csv_path, parse_dates=[\"time\"])\n",
    "    df = df.sort_values(\"time\").set_index(\"time\")[features]\n",
    "\n",
    "    # Store original energy for comparison\n",
    "    original_energy = df['energy'].copy()\n",
    "\n",
    "    # Handle zero values\n",
    "    energy = df[\"energy\"].copy()\n",
    "    mask = energy == 0\n",
    "    first_nonzero_idx = energy.ne(0).idxmax()\n",
    "    mask.loc[:first_nonzero_idx] = False\n",
    "    energy.loc[mask] = np.nan\n",
    "    energy = energy.ffill()\n",
    "    df[\"energy\"] = energy\n",
    "    df = df.ffill()\n",
    "\n",
    "    # Plotting the original and filtered energy values\n",
    "    plt.figure(figsize=(12, 6))\n",
    "    plt.plot(df.index, original_energy, label='Original Energy', alpha=0.5, linestyle='--')\n",
    "    plt.plot(df.index, df['energy'], label='Filtered Energy', alpha=0.5)\n",
    "    plt.title('Original vs Filtered Energy Values')\n",
    "    plt.xlabel('Time')\n",
    "    plt.ylabel('Energy Value')\n",
    "    plt.legend()\n",
    "    plt.grid(True)\n",
    "    plt.show()\n",
    "\n",
    "    scaler = MinMaxScaler()\n",
    "    scaled = scaler.fit_transform(df)\n",
    "\n",
    "    X, y = [], []\n",
    "    for i in range(len(scaled) - input_window - output_window):\n",
    "        X.append(scaled[i:i+input_window])\n",
    "        y.append(scaled[i+input_window:i+input_window+output_window])\n",
    "    \n",
    "    X = np.array(X)\n",
    "    y = np.array(y)\n",
    "    print(f\"✅ X shape: {X.shape}, y shape: {y.shape}\")\n",
    "    return X, y, scaler, df"
   ]
  },
  {
   "cell_type": "code",
   "execution_count": null,
   "id": "652eb918",
   "metadata": {},
   "outputs": [],
   "source": [
    "X, y, scaler, df_full = preprocess(csv_path, features, input_window, output_window)\n",
    "split = int(len(X) * 0.8)\n",
    "X_train, X_test = X[:split], X[split:]\n",
    "y_train, y_test = y[:split], y[split:]"
   ]
  },
  {
   "cell_type": "code",
   "execution_count": null,
   "id": "875dc8ab",
   "metadata": {},
   "outputs": [],
   "source": [
    "def build_model(input_shape, hidden_size, learning_rate):\n",
    "    model = Sequential()\n",
    "    model.add(Input(shape=input_shape))\n",
    "    model.add(LSTM(hidden_size, return_sequences=True))\n",
    "    model.add(LSTM(hidden_size, return_sequences=True))\n",
    "    model.add(TimeDistributed(Dense(1)))\n",
    "    model.compile(optimizer=tf.keras.optimizers.Adam(learning_rate=learning_rate),\n",
    "                  loss=\"mse\", metrics=[\"mae\", \"mse\"])\n",
    "    return model"
   ]
  },
  {
   "cell_type": "code",
   "execution_count": null,
   "id": "e6a418e6",
   "metadata": {},
   "outputs": [],
   "source": [
    "model = build_model(input_shape=(input_window, 1), hidden_size=hidden_size, learning_rate=learning_rate)"
   ]
  },
  {
   "cell_type": "code",
   "execution_count": null,
   "id": "e02c48f7",
   "metadata": {},
   "outputs": [],
   "source": [
    "model.summary()"
   ]
  },
  {
   "cell_type": "code",
   "execution_count": null,
   "id": "a51eabfa",
   "metadata": {},
   "outputs": [],
   "source": [
    "early_stop = EarlyStopping(monitor='val_loss', patience=5, restore_best_weights=True)"
   ]
  },
  {
   "cell_type": "code",
   "execution_count": null,
   "id": "e3e92998",
   "metadata": {},
   "outputs": [],
   "source": [
    "history = model.fit(\n",
    "    X_train, y_train,\n",
    "    validation_data=(X_test, y_test),\n",
    "    epochs=epochs,\n",
    "    batch_size=batch_size,\n",
    "    callbacks=[early_stop],\n",
    "    verbose=1\n",
    ")"
   ]
  },
  {
   "cell_type": "code",
   "execution_count": null,
   "id": "11252fc0",
   "metadata": {},
   "outputs": [],
   "source": [
    "model.save(\"china_mill_seq2seq_3360.h5\")"
   ]
  },
  {
   "cell_type": "code",
   "execution_count": null,
   "id": "60fb7d30",
   "metadata": {},
   "outputs": [],
   "source": [
    "plt.plot(history.history[\"loss\"], label=\"Train Loss\")\n",
    "plt.plot(history.history[\"val_loss\"], label=\"Val Loss\")\n",
    "plt.title(\"Loss over Epochs\")\n",
    "plt.xlabel(\"Epoch\")\n",
    "plt.ylabel(\"MSE\")\n",
    "plt.grid(True)\n",
    "plt.legend()\n",
    "plt.show()"
   ]
  },
  {
   "cell_type": "code",
   "execution_count": null,
   "id": "d6dd7ac9",
   "metadata": {},
   "outputs": [],
   "source": [
    "sample_input = X_test[0:1]  # Shape (1, 3360, 1)\n",
    "prediction = model.predict(sample_input)  # Shape (1, 3360, 1)"
   ]
  },
  {
   "cell_type": "code",
   "execution_count": null,
   "id": "3557eb0d",
   "metadata": {},
   "outputs": [],
   "source": [
    "# Inverse transform both y_test and prediction\n",
    "true_future = scaler.inverse_transform(y_test[0])\n",
    "predicted_future = scaler.inverse_transform(prediction[0])"
   ]
  },
  {
   "cell_type": "code",
   "execution_count": null,
   "id": "7a57c43b",
   "metadata": {},
   "outputs": [],
   "source": [
    "# Get timestamps for plotting\n",
    "start_time = df_full.index[-(output_window + 1)]\n",
    "time_index = pd.date_range(start=start_time + pd.Timedelta(minutes=4), periods=output_window, freq=\"4min\")"
   ]
  },
  {
   "cell_type": "code",
   "execution_count": null,
   "id": "40e80e61",
   "metadata": {},
   "outputs": [],
   "source": [
    "# Plot\n",
    "plt.figure(figsize=(14, 6))\n",
    "plt.plot(time_index, true_future, label=\"Actual Energy\", color=\"blue\")\n",
    "plt.plot(time_index, predicted_future, label=\"Predicted Energy\", linestyle=\"--\", color=\"orange\")\n",
    "plt.title(\"Energy Forecast - Next 3360 Points\")\n",
    "plt.xlabel(\"Time\")\n",
    "plt.ylabel(\"Energy\")\n",
    "plt.grid(True)\n",
    "plt.legend()\n",
    "plt.show()\n"
   ]
  }
 ],
 "metadata": {
  "language_info": {
   "name": "python"
  }
 },
 "nbformat": 4,
 "nbformat_minor": 5
}

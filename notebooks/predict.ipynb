{
 "cells": [
  {
   "cell_type": "code",
   "execution_count": null,
   "metadata": {},
   "outputs": [
    {
     "name": "stderr",
     "output_type": "stream",
     "text": [
      "2025-04-22 21:54:51.640354: I tensorflow/core/platform/cpu_feature_guard.cc:182] This TensorFlow binary is optimized to use available CPU instructions in performance-critical operations.\n",
      "To enable the following instructions: SSE4.1 SSE4.2, in other operations, rebuild TensorFlow with the appropriate compiler flags.\n"
     ]
    }
   ],
   "source": [
    "import numpy as np\n",
    "import pandas as pd\n",
    "import matplotlib.pyplot as plt\n",
    "from sklearn.preprocessing import MinMaxScaler\n",
    "from tensorflow.keras.models import load_model"
   ]
  },
  {
   "cell_type": "code",
   "execution_count": null,
   "metadata": {},
   "outputs": [],
   "source": [
    "csv_path = \"china_mill_data_2025_03_04_09_30_30.csv\"\n",
    "model_path = \"china_mill.keras\"\n",
    "window_size = 3360\n",
    "features = ['energy']"
   ]
  },
  {
   "cell_type": "code",
   "execution_count": null,
   "metadata": {},
   "outputs": [],
   "source": [
    "def load_latest_data(csv_path, features, window_size):\n",
    "    df = pd.read_csv(csv_path, parse_dates=['time'])\n",
    "    df = df.sort_values('time').set_index('time')\n",
    "    df = df[features]\n",
    "\n",
    "    # Handle zero values in energy\n",
    "    energy = df['energy'].copy()\n",
    "    mask = energy == 0\n",
    "    first_nonzero_idx = energy.ne(0).idxmax()\n",
    "    mask.loc[:first_nonzero_idx] = False\n",
    "    energy.loc[mask] = np.nan\n",
    "    energy = energy.ffill()\n",
    "    df['energy'] = energy\n",
    "    df = df.ffill()\n",
    "\n",
    "    # Normalize\n",
    "    scaler = MinMaxScaler()\n",
    "    scaled_data = scaler.fit_transform(df)\n",
    "\n",
    "    # Use only the last `window_size` data points for prediction\n",
    "    latest_window = scaled_data[-window_size:]\n",
    "    return latest_window, scaler, df[-window_size:].index"
   ]
  },
  {
   "cell_type": "code",
   "execution_count": null,
   "metadata": {},
   "outputs": [],
   "source": [
    "X_input, scaler, last_timestamps = load_latest_data(csv_path, features, window_size)"
   ]
  },
  {
   "cell_type": "code",
   "execution_count": null,
   "metadata": {},
   "outputs": [],
   "source": [
    "X_input = np.expand_dims(X_input, axis=0)"
   ]
  },
  {
   "cell_type": "code",
   "execution_count": null,
   "metadata": {},
   "outputs": [],
   "source": [
    "model = load_model(model_path)"
   ]
  },
  {
   "cell_type": "code",
   "execution_count": null,
   "metadata": {},
   "outputs": [],
   "source": [
    "predictions_scaled = []"
   ]
  },
  {
   "cell_type": "code",
   "execution_count": null,
   "metadata": {},
   "outputs": [],
   "source": [
    "current_input = X_input.copy()"
   ]
  },
  {
   "cell_type": "code",
   "execution_count": null,
   "metadata": {},
   "outputs": [],
   "source": [
    "for _ in range(window_size):\n",
    "    pred = model.predict(current_input, verbose=0)\n",
    "    predictions_scaled.append(pred[0])\n",
    "\n",
    "    # Append prediction and slide window\n",
    "    current_input = np.append(current_input[:, 1:, :], [[pred]], axis=1)\n"
   ]
  },
  {
   "cell_type": "code",
   "execution_count": null,
   "metadata": {},
   "outputs": [],
   "source": [
    "predictions_scaled = np.array(predictions_scaled)"
   ]
  },
  {
   "cell_type": "code",
   "execution_count": null,
   "metadata": {},
   "outputs": [],
   "source": [
    "predictions = scaler.inverse_transform(predictions_scaled)"
   ]
  },
  {
   "cell_type": "code",
   "execution_count": null,
   "metadata": {},
   "outputs": [],
   "source": [
    "df = pd.read_csv(csv_path, parse_dates=['time'])\n",
    "df = df.sort_values('time').set_index('time')\n",
    "df = df[features]"
   ]
  },
  {
   "cell_type": "code",
   "execution_count": null,
   "metadata": {},
   "outputs": [],
   "source": [
    "energy = df['energy'].copy()\n",
    "mask = energy == 0\n",
    "first_nonzero_idx = energy.ne(0).idxmax()\n",
    "mask.loc[:first_nonzero_idx] = False\n",
    "energy.loc[mask] = np.nan\n",
    "energy = energy.ffill()\n",
    "df['energy'] = energy\n",
    "df = df.ffill()"
   ]
  },
  {
   "cell_type": "code",
   "execution_count": null,
   "metadata": {},
   "outputs": [],
   "source": [
    "past_values = df[-window_size:]['energy'].values"
   ]
  },
  {
   "cell_type": "code",
   "execution_count": null,
   "metadata": {},
   "outputs": [],
   "source": [
    "start_time = df.index[-1]\n",
    "time_freq = df.index.inferred_freq or '5min'\n",
    "predicted_range = pd.date_range(start=start_time + pd.Timedelta(time_freq), periods=window_size, freq=time_freq)\n"
   ]
  },
  {
   "cell_type": "code",
   "execution_count": null,
   "metadata": {},
   "outputs": [],
   "source": [
    "plt.figure(figsize=(14, 6))\n",
    "plt.plot(df.index[-window_size:], past_values, label='Input Data (Past 3360)', color='blue')\n",
    "plt.plot(predicted_range, predictions[:, 0], label='Predicted Data (Next 3360)', color='orange', linestyle='--')\n",
    "plt.title('Energy Prediction: Past vs Next Week')\n",
    "plt.xlabel('Time')\n",
    "plt.ylabel('Energy')\n",
    "plt.legend()\n",
    "plt.grid(True)\n",
    "plt.show()"
   ]
  }
 ],
 "metadata": {
  "kernelspec": {
   "display_name": "TF_GPU",
   "language": "python",
   "name": "python3"
  },
  "language_info": {
   "codemirror_mode": {
    "name": "ipython",
    "version": 3
   },
   "file_extension": ".py",
   "mimetype": "text/x-python",
   "name": "python",
   "nbconvert_exporter": "python",
   "pygments_lexer": "ipython3",
   "version": "3.10.0"
  }
 },
 "nbformat": 4,
 "nbformat_minor": 2
}
